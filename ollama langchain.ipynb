{
 "cells": [
  {
   "cell_type": "code",
   "execution_count": 1,
   "id": "aa70b0f2-cf20-430d-9ada-cbf817e060bb",
   "metadata": {},
   "outputs": [],
   "source": [
    "from langchain.llms import Ollama"
   ]
  },
  {
   "cell_type": "code",
   "execution_count": 2,
   "id": "9ac271cd-f0ff-4ec6-aded-63fc4fbfd8fc",
   "metadata": {},
   "outputs": [],
   "source": [
    "model = Ollama(model=\"mistral:7b\")"
   ]
  },
  {
   "cell_type": "code",
   "execution_count": 3,
   "id": "98e3841e-eb2f-4a91-b458-18a1529b4b95",
   "metadata": {},
   "outputs": [
    {
     "data": {
      "text/plain": [
       "\" I'm just a computer program, so I don't have feelings or the ability to do anything. I'm here to help answer any questions you might have to the best of my ability. Is there something specific you'd like to ask about?\""
      ]
     },
     "execution_count": 3,
     "metadata": {},
     "output_type": "execute_result"
    }
   ],
   "source": [
    "model.invoke(\"hi how are you doing ?\")"
   ]
  },
  {
   "cell_type": "code",
   "execution_count": 4,
   "id": "51336060-4c3f-4fb5-a87f-5f8fd248390c",
   "metadata": {},
   "outputs": [],
   "source": [
    "from langchain.embeddings import OllamaEmbeddings\n",
    "\n",
    "embeddings = OllamaEmbeddings(model=\"mistral:7b\")"
   ]
  },
  {
   "cell_type": "code",
   "execution_count": 5,
   "id": "2182a80b-1506-403f-b08b-8900cab41010",
   "metadata": {},
   "outputs": [],
   "source": [
    "# from langchain_community.document_loaders import PyPDFLoader\n",
    "\n",
    "# loader = PyPDFLoader(\"animal_farm.pdf\")\n",
    "# pages = loader.load()"
   ]
  },
  {
   "cell_type": "code",
   "execution_count": 6,
   "id": "e53161cf-7d8d-496f-ab93-5f6e20d19fdc",
   "metadata": {},
   "outputs": [],
   "source": [
    "from langchain_community.vectorstores import FAISS\n",
    "from langchain.text_splitter import RecursiveCharacterTextSplitter\n",
    "from langchain_community.document_loaders import PyPDFLoader\n",
    "\n",
    "loader = PyPDFLoader(\"Tuhin's Resume-hackerresume ds.pdf\")\n",
    "pages = loader.load_and_split()"
   ]
  },
  {
   "cell_type": "code",
   "execution_count": 9,
   "id": "710b1b62-43b7-4f77-b2c6-02a354eeb4d0",
   "metadata": {},
   "outputs": [
    {
     "name": "stdout",
     "output_type": "stream",
     "text": [
      "0: Tuhin Mondal\n",
      "ML AND DS\n",
      "tuhinm2002@gmail.com | 9073628209 | K olk ata\n",
      "Link edin\n",
      "Educa tion\n",
      "Kendriy a Vidy ala y a San tragac hi W est Bengal\n",
      "Senior Secondary Sc ho ol PCM July 2019 - July 2021\n",
      "P ercen tage: 83 %\n",
      "Univ ersit y Engineering and Managemen t K olk ata,India\n",
      "B.tec h Computer science August \n"
     ]
    }
   ],
   "source": [
    "from langchain_community.vectorstores import FAISS\n",
    "\n",
    "faiss_index = FAISS.from_documents(pages, embeddings)\n",
    "docs = faiss_index.similarity_search(\"whos resume is this\", k=2)\n",
    "for doc in docs:\n",
    "    print(str(doc.metadata[\"page\"]) + \":\", doc.page_content[:300])"
   ]
  },
  {
   "cell_type": "code",
   "execution_count": null,
   "id": "b38232e9-25b1-4077-901e-b1e6568f24da",
   "metadata": {},
   "outputs": [],
   "source": []
  }
 ],
 "metadata": {
  "kernelspec": {
   "display_name": "Python 3 (ipykernel)",
   "language": "python",
   "name": "python3"
  },
  "language_info": {
   "codemirror_mode": {
    "name": "ipython",
    "version": 3
   },
   "file_extension": ".py",
   "mimetype": "text/x-python",
   "name": "python",
   "nbconvert_exporter": "python",
   "pygments_lexer": "ipython3",
   "version": "3.11.6"
  }
 },
 "nbformat": 4,
 "nbformat_minor": 5
}
