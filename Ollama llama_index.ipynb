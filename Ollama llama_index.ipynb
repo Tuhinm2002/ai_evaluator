{
 "cells": [
  {
   "cell_type": "code",
   "execution_count": 1,
   "id": "8218ae64-0a50-4eec-859d-5852d76e676f",
   "metadata": {},
   "outputs": [],
   "source": [
    "from llama_index.llms import Ollama"
   ]
  },
  {
   "cell_type": "code",
   "execution_count": 9,
   "id": "d726cca9-a603-48f0-b9df-eaa70516a15e",
   "metadata": {},
   "outputs": [],
   "source": [
    "model = Ollama(model=\"mistral:7b\")"
   ]
  },
  {
   "cell_type": "code",
   "execution_count": 10,
   "id": "366519d8-515e-47e0-b07a-147584ef750a",
   "metadata": {},
   "outputs": [],
   "source": [
    "resp = model.complete(\"Who is Paul Graham?\")"
   ]
  },
  {
   "cell_type": "code",
   "execution_count": 11,
   "id": "7d583be5-dd1d-461a-845f-13883f6e03e2",
   "metadata": {},
   "outputs": [
    {
     "name": "stdout",
     "output_type": "stream",
     "text": [
      " Paul Graham is a well-known entrepreneur, hacker, and writer. He co-founded the startup incubator Y Combinator in 2005 with his partner Jessica Livingston. Y Combinator is based in Mountain View, California, and has since become one of the most prominent start-up accelerators in the world. Graham himself is also an influential figure in the tech industry and the startup community due to his essays on entrepreneurship, programming, and society, which have been widely read on his website, Hackers & Painters. He is considered a pioneer of the \"maker culture\" movement, and his ideas have influenced generations of entrepreneurs and tech enthusiasts.\n"
     ]
    }
   ],
   "source": [
    "print(resp)"
   ]
  },
  {
   "cell_type": "code",
   "execution_count": null,
   "id": "3e09dcaa-4adc-4cd5-a5c0-19414e3149dc",
   "metadata": {},
   "outputs": [],
   "source": []
  }
 ],
 "metadata": {
  "kernelspec": {
   "display_name": "Python 3 (ipykernel)",
   "language": "python",
   "name": "python3"
  },
  "language_info": {
   "codemirror_mode": {
    "name": "ipython",
    "version": 3
   },
   "file_extension": ".py",
   "mimetype": "text/x-python",
   "name": "python",
   "nbconvert_exporter": "python",
   "pygments_lexer": "ipython3",
   "version": "3.11.6"
  }
 },
 "nbformat": 4,
 "nbformat_minor": 5
}
